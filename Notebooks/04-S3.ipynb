{
 "cells": [
  {
   "cell_type": "code",
   "execution_count": 1,
   "metadata": {},
   "outputs": [],
   "source": [
    "import boto3\n",
    "import boto3.session\n",
    "from botocore.exceptions import ClientError\n",
    "import os\n",
    "from dotenv import load_dotenv"
   ]
  },
  {
   "cell_type": "code",
   "execution_count": 2,
   "metadata": {},
   "outputs": [],
   "source": [
    "load_dotenv(dotenv_path=\"/root/work/vhe/env.txt\")\n",
    "ACCESS_KEY_ID=os.getenv(\"ACCESS_KEY_ID\")\n",
    "SECRET_ACCESS_KEY=os.getenv(\"SECRET_ACCESS_KEY\")"
   ]
  },
  {
   "cell_type": "code",
   "execution_count": 3,
   "metadata": {},
   "outputs": [],
   "source": [
    "s3 = boto3.session.Session().client(\n",
    "    service_name='s3',\n",
    "    region_name='fr-par',\n",
    "    use_ssl=True,\n",
    "    endpoint_url='http://s3.fr-par.scw.cloud',\n",
    "    aws_access_key_id=ACCESS_KEY_ID,\n",
    "    aws_secret_access_key=SECRET_ACCESS_KEY\n",
    ")"
   ]
  },
  {
   "cell_type": "code",
   "execution_count": 6,
   "metadata": {},
   "outputs": [
    {
     "name": "stdout",
     "output_type": "stream",
     "text": [
      "411\n",
      "['crypto/parquet/1INCHBTC.parquet', 'crypto/parquet/AAVEBTC.parquet', 'crypto/parquet/ACABTC.parquet', 'crypto/parquet/ACHBTC.parquet', 'crypto/parquet/ACMBTC.parquet']\n"
     ]
    }
   ],
   "source": [
    "# List of parquet files to use\n",
    "\n",
    "prefix = 'crypto/parquet/'\n",
    "response = s3.list_objects(Bucket='crypto-histo',Prefix=prefix)\n",
    "parquetFiles = []\n",
    "for on in [c['Key'] for c in response['Contents']]:\n",
    "    parquetFiles.append(on)\n",
    "if 'NextMarker' in response:\n",
    "    next = response['NextMarker']\n",
    "else :\n",
    "    next = \"\"\n",
    "\n",
    "while next != '':\n",
    "    response = s3.list_objects(Bucket='crypto-histo',Prefix=prefix, Marker=next)\n",
    "    newObjects = [c['Key'] for c in response['Contents']]\n",
    "    for on in newObjects:\n",
    "        parquetFiles.append(on)\n",
    "    \n",
    "    if 'NextMarker' in response:\n",
    "        next = response['NextMarker']\n",
    "    else :\n",
    "        next = \"\"\n",
    "\n",
    "print(len(parquetFiles)) \n",
    "print(parquetFiles[:5])"
   ]
  },
  {
   "attachments": {},
   "cell_type": "markdown",
   "metadata": {},
   "source": [
    "# Read using PYARROW"
   ]
  },
  {
   "cell_type": "code",
   "execution_count": 7,
   "metadata": {},
   "outputs": [
    {
     "name": "stdout",
     "output_type": "stream",
     "text": [
      "pyarrow.Table\n",
      "OpenTime: timestamp[ms]\n",
      "Open: float\n",
      "High: float\n",
      "Low: float\n",
      "Close: float\n",
      "Volume: float\n",
      "CloseTime: timestamp[ms]\n",
      "QuoteAssetVolume: float\n",
      "NumberOfTrade: int32\n",
      "TakerBuyBaseAssetVolume: float\n",
      "TakerBuyQuoteAssetVolume: float\n",
      "Ignore: int32\n",
      "----\n",
      "OpenTime: [[2022-01-25 12:00:00.000,2022-01-25 12:01:00.000,2022-01-25 12:02:00.000,2022-01-25 12:03:00.000,2022-01-25 12:04:00.000,...,2022-04-26 12:27:00.000,2022-04-26 12:28:00.000,2022-04-26 12:29:00.000,2022-04-26 12:30:00.000,2022-04-26 12:31:00.000],[2022-04-26 12:32:00.000,2022-04-26 12:33:00.000,2022-04-26 12:34:00.000,2022-04-26 12:35:00.000,2022-04-26 12:36:00.000,...,2022-07-26 12:59:00.000,2022-07-26 13:00:00.000,2022-07-26 13:01:00.000,2022-07-26 13:02:00.000,2022-07-26 13:03:00.000],...,[2022-10-25 13:37:00.000,2022-10-25 13:38:00.000,2022-10-25 13:39:00.000,2022-10-25 13:40:00.000,2022-10-25 13:41:00.000,...,2023-01-24 14:04:00.000,2023-01-24 14:05:00.000,2023-01-24 14:06:00.000,2023-01-24 14:07:00.000,2023-01-24 14:08:00.000],[2023-01-24 14:09:00.000,2023-01-24 14:10:00.000,2023-01-24 14:11:00.000,2023-01-24 14:12:00.000,2023-01-24 14:13:00.000,...,2023-02-23 23:55:00.000,2023-02-23 23:56:00.000,2023-02-23 23:57:00.000,2023-02-23 23:58:00.000,2023-02-23 23:59:00.000]]\n",
      "Open: [[0.00005499,0.00006128,0.00006064,0.00005816,0.00005924,...,0.00002982,0.00002982,0.00002982,0.00002982,0.00002982],[0.00002982,0.00002982,0.00002967,0.00002967,0.00002967,...,0.00001193,0.00001193,0.00001193,0.00001193,0.00001193],...,[0.00000848,0.00000848,0.00000847,0.00000848,0.00000848,...,0.00000602,0.00000602,0.00000602,0.00000602,0.00000602],[0.00000603,0.00000603,0.00000603,0.00000603,0.00000603,...,0.00000648,0.00000648,0.00000648,0.00000648,0.00000648]]\n",
      "High: [[0.0000785,0.00006224,0.00006066,0.00005972,0.00006194,...,0.00002982,0.00002982,0.00002982,0.00002982,0.00002982],[0.00002982,0.00002982,0.00002967,0.00002967,0.00002967,...,0.00001193,0.00001193,0.00001193,0.00001193,0.00001193],...,[0.00000848,0.00000848,0.00000848,0.00000848,0.00000848,...,0.00000602,0.00000602,0.00000602,0.00000602,0.00000602],[0.00000603,0.00000603,0.00000603,0.00000603,0.00000603,...,0.00000648,0.00000648,0.00000648,0.00000648,0.00000648]]\n",
      "Low: [[0.00005401,0.00005856,0.00005802,0.000058,0.00005918,...,0.00002982,0.00002982,0.00002982,0.00002982,0.00002982],[0.00002982,0.00002982,0.00002967,0.00002967,0.00002967,...,0.00001193,0.00001193,0.00001193,0.00001193,0.00001193],...,[0.00000848,0.00000848,0.00000847,0.00000848,0.00000848,...,0.00000602,0.00000602,0.00000602,0.00000602,0.00000602],[0.00000603,0.00000603,0.00000603,0.00000603,0.00000603,...,0.00000648,0.00000648,0.00000648,0.00000648,0.00000648]]\n",
      "Close: [[0.00006085,0.00006028,0.00005821,0.00005921,0.00006036,...,0.00002982,0.00002982,0.00002982,0.00002982,0.00002982],[0.00002982,0.00002982,0.00002967,0.00002967,0.00002967,...,0.00001193,0.00001193,0.00001193,0.00001193,0.00001193],...,[0.00000848,0.00000848,0.00000848,0.00000848,0.00000848,...,0.00000602,0.00000602,0.00000602,0.00000602,0.00000602],[0.00000603,0.00000603,0.00000603,0.00000603,0.00000603,...,0.00000648,0.00000648,0.00000648,0.00000648,0.00000648]]\n",
      "Volume: [[173750.12,83494.56,69544.9,55090.64,45364.25,...,0,0,0,0,0],[0,0,143,0,0,...,0,0,0,0,0],...,[0,0,12810.3,0,0,...,0,0,0,0,0],[1038.84,0,16.64,57.49,819,...,307.07,0,15.59,77.3,0]]\n",
      "CloseTime: [[2022-01-25 12:00:59.999,2022-01-25 12:01:59.999,2022-01-25 12:02:59.999,2022-01-25 12:03:59.999,2022-01-25 12:04:59.999,...,2022-04-26 12:27:59.999,2022-04-26 12:28:59.999,2022-04-26 12:29:59.999,2022-04-26 12:30:59.999,2022-04-26 12:31:59.999],[2022-04-26 12:32:59.999,2022-04-26 12:33:59.999,2022-04-26 12:34:59.999,2022-04-26 12:35:59.999,2022-04-26 12:36:59.999,...,2022-07-26 12:59:59.999,2022-07-26 13:00:59.999,2022-07-26 13:01:59.999,2022-07-26 13:02:59.999,2022-07-26 13:03:59.999],...,[2022-10-25 13:37:59.999,2022-10-25 13:38:59.999,2022-10-25 13:39:59.999,2022-10-25 13:40:59.999,2022-10-25 13:41:59.999,...,2023-01-24 14:04:59.999,2023-01-24 14:05:59.999,2023-01-24 14:06:59.999,2023-01-24 14:07:59.999,2023-01-24 14:08:59.999],[2023-01-24 14:09:59.999,2023-01-24 14:10:59.999,2023-01-24 14:11:59.999,2023-01-24 14:12:59.999,2023-01-24 14:13:59.999,...,2023-02-23 23:55:59.999,2023-02-23 23:56:59.999,2023-02-23 23:57:59.999,2023-02-23 23:58:59.999,2023-02-23 23:59:59.999]]\n",
      "QuoteAssetVolume: [[10.86565,5.0139284,4.076142,3.2258968,2.730013,...,0,0,0,0,0],[0,0,0.00424281,0,0,...,0,0,0,0,0],...,[0,0,0.10851789,0,0,...,0,0,0,0,0],[0.00626419,0,0.00010033,0.00034666,0.00493856,...,0.00198978,0,0.00010101,0.0005009,0]]\n",
      "NumberOfTrade: [[1650,685,374,322,227,...,0,0,0,0,0],[0,0,1,0,0,...,0,0,0,0,0],...,[0,0,5,0,0,...,0,0,0,0,0],[6,0,1,1,4,...,5,0,2,2,0]]\n",
      "TakerBuyBaseAssetVolume: [[96770.42,67253.38,36044.7,36895.54,38215.52,...,0,0,0,0,0],[0,0,0,0,0,...,0,0,0,0,0],...,[0,0,1466.17,0,0,...,0,0,0,0,0],[22.02,0,0,0,0,...,307.07,0,15.59,77.3,0]]\n",
      "...\n"
     ]
    }
   ],
   "source": [
    "import pyarrow.parquet as pq\n",
    "s3.download_file('crypto-histo', 'crypto/parquet/ACABTC.parquet', '/root/work/vhe/tmp/ACABTC.parquet')\n",
    "tableACABTC = pq.read_table('/root/work/vhe/tmp/ACABTC.parquet')\n",
    "print(tableACABTC)"
   ]
  },
  {
   "cell_type": "code",
   "execution_count": 8,
   "metadata": {},
   "outputs": [
    {
     "data": {
      "text/plain": [
       "<pyarrow._parquet.FileMetaData object at 0x7f85b7dad210>\n",
       "  created_by: Arrow2 - Native Rust implementation of Arrow\n",
       "  num_columns: 12\n",
       "  num_rows: 568079\n",
       "  num_row_groups: 1\n",
       "  format_version: 2.6\n",
       "  serialized_size: 2240"
      ]
     },
     "execution_count": 8,
     "metadata": {},
     "output_type": "execute_result"
    }
   ],
   "source": [
    "parquet_file = pq.ParquetFile('/root/work/vhe/tmp/ACABTC.parquet')\n",
    "metadata = parquet_file.metadata\n",
    "metadata"
   ]
  },
  {
   "attachments": {},
   "cell_type": "markdown",
   "metadata": {},
   "source": [
    "# Use DuckDB !"
   ]
  },
  {
   "cell_type": "code",
   "execution_count": 9,
   "metadata": {},
   "outputs": [],
   "source": [
    "import duckdb\n",
    "import pandas"
   ]
  },
  {
   "cell_type": "code",
   "execution_count": 10,
   "metadata": {},
   "outputs": [],
   "source": [
    "# setup datalake S3 connection \n",
    "\n",
    "duckdb.install_extension(\"httpfs\")\n",
    "duckdb.load_extension(\"httpfs\")\n",
    "duckdb.sql(f\"SET s3_region='fr-par';\")\n",
    "duckdb.sql(f\"SET s3_access_key_id='{ACCESS_KEY_ID}';\")\n",
    "duckdb.sql(f\"SET s3_secret_access_key='{SECRET_ACCESS_KEY}';\")\n",
    "duckdb.sql(f\"SET s3_endpoint='s3.fr-par.scw.cloud';\")\n",
    "\n",
    "S3_BUCKET = os.environ.get(\"S3_BUCKET\", \"crypto-histo\")\n",
    "PARQUET_FOLDER = os.environ.get(\"PARQUET_FOLDER\", \"parquet\")"
   ]
  },
  {
   "cell_type": "code",
   "execution_count": 11,
   "metadata": {},
   "outputs": [
    {
     "data": {
      "text/html": [
       "<div>\n",
       "<style scoped>\n",
       "    .dataframe tbody tr th:only-of-type {\n",
       "        vertical-align: middle;\n",
       "    }\n",
       "\n",
       "    .dataframe tbody tr th {\n",
       "        vertical-align: top;\n",
       "    }\n",
       "\n",
       "    .dataframe thead th {\n",
       "        text-align: right;\n",
       "    }\n",
       "</style>\n",
       "<table border=\"1\" class=\"dataframe\">\n",
       "  <thead>\n",
       "    <tr style=\"text-align: right;\">\n",
       "      <th></th>\n",
       "      <th>OpenTime</th>\n",
       "      <th>High</th>\n",
       "    </tr>\n",
       "  </thead>\n",
       "  <tbody>\n",
       "    <tr>\n",
       "      <th>0</th>\n",
       "      <td>2021-07-01 00:00:00</td>\n",
       "      <td>0.000072</td>\n",
       "    </tr>\n",
       "    <tr>\n",
       "      <th>1</th>\n",
       "      <td>2021-07-01 00:01:00</td>\n",
       "      <td>0.000072</td>\n",
       "    </tr>\n",
       "    <tr>\n",
       "      <th>2</th>\n",
       "      <td>2021-07-01 00:02:00</td>\n",
       "      <td>0.000072</td>\n",
       "    </tr>\n",
       "    <tr>\n",
       "      <th>3</th>\n",
       "      <td>2021-07-01 00:03:00</td>\n",
       "      <td>0.000072</td>\n",
       "    </tr>\n",
       "    <tr>\n",
       "      <th>4</th>\n",
       "      <td>2021-07-01 00:04:00</td>\n",
       "      <td>0.000072</td>\n",
       "    </tr>\n",
       "    <tr>\n",
       "      <th>...</th>\n",
       "      <td>...</td>\n",
       "      <td>...</td>\n",
       "    </tr>\n",
       "    <tr>\n",
       "      <th>867924</th>\n",
       "      <td>2023-02-23 23:55:00</td>\n",
       "      <td>0.000026</td>\n",
       "    </tr>\n",
       "    <tr>\n",
       "      <th>867925</th>\n",
       "      <td>2023-02-23 23:56:00</td>\n",
       "      <td>0.000026</td>\n",
       "    </tr>\n",
       "    <tr>\n",
       "      <th>867926</th>\n",
       "      <td>2023-02-23 23:57:00</td>\n",
       "      <td>0.000026</td>\n",
       "    </tr>\n",
       "    <tr>\n",
       "      <th>867927</th>\n",
       "      <td>2023-02-23 23:58:00</td>\n",
       "      <td>0.000026</td>\n",
       "    </tr>\n",
       "    <tr>\n",
       "      <th>867928</th>\n",
       "      <td>2023-02-23 23:59:00</td>\n",
       "      <td>0.000026</td>\n",
       "    </tr>\n",
       "  </tbody>\n",
       "</table>\n",
       "<p>867929 rows × 2 columns</p>\n",
       "</div>"
      ],
      "text/plain": [
       "                  OpenTime      High\n",
       "0      2021-07-01 00:00:00  0.000072\n",
       "1      2021-07-01 00:01:00  0.000072\n",
       "2      2021-07-01 00:02:00  0.000072\n",
       "3      2021-07-01 00:03:00  0.000072\n",
       "4      2021-07-01 00:04:00  0.000072\n",
       "...                    ...       ...\n",
       "867924 2023-02-23 23:55:00  0.000026\n",
       "867925 2023-02-23 23:56:00  0.000026\n",
       "867926 2023-02-23 23:57:00  0.000026\n",
       "867927 2023-02-23 23:58:00  0.000026\n",
       "867928 2023-02-23 23:59:00  0.000026\n",
       "\n",
       "[867929 rows x 2 columns]"
      ]
     },
     "execution_count": 11,
     "metadata": {},
     "output_type": "execute_result"
    }
   ],
   "source": [
    "# Querry on 1 parquet file\n",
    "parquet_file = f\"s3://{S3_BUCKET}/crypto/{PARQUET_FOLDER}/1INCHBTC.parquet\"\n",
    "\n",
    "query = \"\"\"\n",
    "SELECT\n",
    "    s.opentime,\n",
    "    s.high\n",
    "FROM\n",
    "    '%s' s\n",
    "\"\"\"%(parquet_file)\n",
    "\n",
    "\n",
    "res = duckdb.sql(query).df()\n",
    "res"
   ]
  },
  {
   "cell_type": "code",
   "execution_count": 12,
   "metadata": {},
   "outputs": [
    {
     "name": "stdout",
     "output_type": "stream",
     "text": [
      "   count_star()\n",
      "0     257928187\n"
     ]
    }
   ],
   "source": [
    "# Query on all multiple files (parquet_read)\n",
    "\n",
    "query = f\"\"\"\n",
    "SELECT\n",
    "    COUNT(*)\n",
    "FROM\n",
    "    read_parquet({[f\"s3://{S3_BUCKET}/{f}\" for f in parquetFiles]}) s\n",
    "\"\"\"\n",
    "\n",
    "res = duckdb.sql(query).df()\n",
    "\n",
    "print(res)"
   ]
  },
  {
   "cell_type": "code",
   "execution_count": 14,
   "metadata": {},
   "outputs": [
    {
     "name": "stdout",
     "output_type": "stream",
     "text": [
      "       symbol     cnt\n",
      "0    1INCHBTC  867929\n",
      "1      ACABTC  568079\n",
      "2      ACMBTC  867929\n",
      "3      ADAEUR  867929\n",
      "4     AGIXBTC  867929\n",
      "..        ...     ...\n",
      "356    SNTBTC  867930\n",
      "357    VETEUR  867928\n",
      "358    BLZBTC  867930\n",
      "359   HARDBTC  867929\n",
      "360   WBTCBTC  867905\n",
      "\n",
      "[361 rows x 2 columns]\n"
     ]
    }
   ],
   "source": [
    "# Get the \"filename\" column\n",
    "\n",
    "query = f\"\"\"\n",
    "SELECT\n",
    "    string_split(string_split(filename, '/')[-1], '.')[1] symbol, COUNT(*) cnt\n",
    "\n",
    "FROM\n",
    "    read_parquet({[f\"s3://{S3_BUCKET}/{f}\" for f in parquetFiles]}, filename=True)\n",
    "GROUP BY symbol\n",
    "\"\"\"\n",
    "res = duckdb.sql(query).df()\n",
    "\n",
    "print(res)"
   ]
  },
  {
   "cell_type": "code",
   "execution_count": 15,
   "metadata": {},
   "outputs": [],
   "source": [
    "# Save it to S3 \n",
    "\n",
    "duckdb.sql(f\"COPY (SELECT * FROM res) TO 's3://{S3_BUCKET}/res_count_by_symbol.parquet' (FORMAT PARQUET);\")"
   ]
  },
  {
   "cell_type": "code",
   "execution_count": 16,
   "metadata": {},
   "outputs": [
    {
     "name": "stdout",
     "output_type": "stream",
     "text": [
      "┌──────────────────┐\n",
      "│     avg(cnt)     │\n",
      "│      double      │\n",
      "├──────────────────┤\n",
      "│ 714482.512465374 │\n",
      "└──────────────────┘\n",
      "\n"
     ]
    }
   ],
   "source": [
    "# Averages \n",
    "\n",
    "avgs = duckdb.sql(f\"SELECT avg(cnt) FROM read_parquet('s3://{S3_BUCKET}/res_count_by_symbol.parquet') \")\n",
    "print(avgs)"
   ]
  },
  {
   "cell_type": "code",
   "execution_count": 17,
   "metadata": {},
   "outputs": [
    {
     "data": {
      "text/html": [
       "<div>\n",
       "<style scoped>\n",
       "    .dataframe tbody tr th:only-of-type {\n",
       "        vertical-align: middle;\n",
       "    }\n",
       "\n",
       "    .dataframe tbody tr th {\n",
       "        vertical-align: top;\n",
       "    }\n",
       "\n",
       "    .dataframe thead th {\n",
       "        text-align: right;\n",
       "    }\n",
       "</style>\n",
       "<table border=\"1\" class=\"dataframe\">\n",
       "  <thead>\n",
       "    <tr style=\"text-align: right;\">\n",
       "      <th></th>\n",
       "      <th>d</th>\n",
       "      <th>min</th>\n",
       "      <th>max</th>\n",
       "    </tr>\n",
       "  </thead>\n",
       "  <tbody>\n",
       "    <tr>\n",
       "      <th>0</th>\n",
       "      <td>2021-07-01</td>\n",
       "      <td>0.000070</td>\n",
       "      <td>0.000072</td>\n",
       "    </tr>\n",
       "    <tr>\n",
       "      <th>1</th>\n",
       "      <td>2021-07-02</td>\n",
       "      <td>0.000069</td>\n",
       "      <td>0.000072</td>\n",
       "    </tr>\n",
       "    <tr>\n",
       "      <th>2</th>\n",
       "      <td>2021-07-03</td>\n",
       "      <td>0.000069</td>\n",
       "      <td>0.000072</td>\n",
       "    </tr>\n",
       "    <tr>\n",
       "      <th>3</th>\n",
       "      <td>2021-07-04</td>\n",
       "      <td>0.000070</td>\n",
       "      <td>0.000075</td>\n",
       "    </tr>\n",
       "    <tr>\n",
       "      <th>4</th>\n",
       "      <td>2021-07-05</td>\n",
       "      <td>0.000071</td>\n",
       "      <td>0.000075</td>\n",
       "    </tr>\n",
       "    <tr>\n",
       "      <th>...</th>\n",
       "      <td>...</td>\n",
       "      <td>...</td>\n",
       "      <td>...</td>\n",
       "    </tr>\n",
       "    <tr>\n",
       "      <th>598</th>\n",
       "      <td>2022-08-23</td>\n",
       "      <td>0.000033</td>\n",
       "      <td>0.000034</td>\n",
       "    </tr>\n",
       "    <tr>\n",
       "      <th>599</th>\n",
       "      <td>2022-09-04</td>\n",
       "      <td>0.000033</td>\n",
       "      <td>0.000035</td>\n",
       "    </tr>\n",
       "    <tr>\n",
       "      <th>600</th>\n",
       "      <td>2022-09-12</td>\n",
       "      <td>0.000029</td>\n",
       "      <td>0.000030</td>\n",
       "    </tr>\n",
       "    <tr>\n",
       "      <th>601</th>\n",
       "      <td>2023-01-08</td>\n",
       "      <td>0.000023</td>\n",
       "      <td>0.000024</td>\n",
       "    </tr>\n",
       "    <tr>\n",
       "      <th>602</th>\n",
       "      <td>2023-02-07</td>\n",
       "      <td>0.000024</td>\n",
       "      <td>0.000025</td>\n",
       "    </tr>\n",
       "  </tbody>\n",
       "</table>\n",
       "<p>603 rows × 3 columns</p>\n",
       "</div>"
      ],
      "text/plain": [
       "             d       min       max\n",
       "0   2021-07-01  0.000070  0.000072\n",
       "1   2021-07-02  0.000069  0.000072\n",
       "2   2021-07-03  0.000069  0.000072\n",
       "3   2021-07-04  0.000070  0.000075\n",
       "4   2021-07-05  0.000071  0.000075\n",
       "..         ...       ...       ...\n",
       "598 2022-08-23  0.000033  0.000034\n",
       "599 2022-09-04  0.000033  0.000035\n",
       "600 2022-09-12  0.000029  0.000030\n",
       "601 2023-01-08  0.000023  0.000024\n",
       "602 2023-02-07  0.000024  0.000025\n",
       "\n",
       "[603 rows x 3 columns]"
      ]
     },
     "execution_count": 17,
     "metadata": {},
     "output_type": "execute_result"
    }
   ],
   "source": [
    "# aggregate to have one value per day \n",
    "# (on 1 file)\n",
    "\n",
    "parquet_file = f\"s3://{S3_BUCKET}/crypto/{PARQUET_FOLDER}/1INCHBTC.parquet\"\n",
    "\n",
    "query = \"\"\"\n",
    "SELECT\n",
    "    date_trunc('day', s.opentime) d,\n",
    "    MIN(s.high) min,\n",
    "    MAX(s.high) max\n",
    "FROM\n",
    "    '%s' s\n",
    "GROUP BY d\n",
    "\"\"\"%(parquet_file)\n",
    "\n",
    "\n",
    "res = duckdb.sql(query).df()\n",
    "res"
   ]
  },
  {
   "cell_type": "code",
   "execution_count": 18,
   "metadata": {},
   "outputs": [],
   "source": [
    "# Get one line per day and symbol \n",
    "\n",
    "query = f\"\"\"\n",
    "SELECT\n",
    "    string_split(string_split(filename, '/')[-1], '.')[1] symbol,\n",
    "    date_trunc('day', opentime) d,\n",
    "    MIN(high) min,\n",
    "    MAX(high) max\n",
    "FROM\n",
    "    read_parquet({[f\"s3://{S3_BUCKET}/{f}\" for f in parquetFiles]}, filename=True)\n",
    "GROUP BY symbol, d\n",
    "\"\"\"\n",
    "\n",
    "res = duckdb.sql(query)\n"
   ]
  },
  {
   "cell_type": "code",
   "execution_count": 19,
   "metadata": {},
   "outputs": [
    {
     "data": {
      "text/plain": [
       "┌─────────┬────────────┬──────────┬──────────┐\n",
       "│ symbol  │     d      │   min    │   max    │\n",
       "│ varchar │    date    │  float   │  float   │\n",
       "├─────────┼────────────┼──────────┼──────────┤\n",
       "│ AAVEBTC │ 2021-07-02 │ 0.006595 │  0.00695 │\n",
       "│ AAVEBTC │ 2021-07-04 │ 0.007218 │ 0.008083 │\n",
       "│ AAVEBTC │ 2021-07-05 │ 0.007849 │ 0.009336 │\n",
       "│ AAVEBTC │ 2021-07-06 │ 0.009164 │   0.0101 │\n",
       "│ AAVEBTC │ 2021-07-07 │  0.00908 │ 0.009571 │\n",
       "│ AAVEBTC │ 2021-07-08 │ 0.008599 │ 0.009451 │\n",
       "│ AAVEBTC │ 2021-07-09 │ 0.008548 │ 0.009361 │\n",
       "│ AAVEBTC │ 2021-07-15 │ 0.008392 │ 0.008733 │\n",
       "│ AAVEBTC │ 2021-07-16 │ 0.008067 │ 0.008741 │\n",
       "│ AAVEBTC │ 2021-07-17 │ 0.007873 │ 0.008171 │\n",
       "│   ·     │     ·      │     ·    │     ·    │\n",
       "│   ·     │     ·      │     ·    │     ·    │\n",
       "│   ·     │     ·      │     ·    │     ·    │\n",
       "│ BRDBTC  │ 2022-03-15 │  6.3e-06 │ 7.09e-06 │\n",
       "│ BRDBTC  │ 2022-04-19 │ 4.79e-06 │ 5.68e-06 │\n",
       "│ BRDBTC  │ 2022-05-08 │ 3.51e-06 │ 3.69e-06 │\n",
       "│ BRDBTC  │ 2022-07-31 │ 3.39e-06 │  4.2e-06 │\n",
       "│ BTGBTC  │ 2021-09-24 │ 0.001202 │ 0.001275 │\n",
       "│ BTGBTC  │ 2021-10-25 │ 0.001079 │ 0.001106 │\n",
       "│ BTGBTC  │ 2021-11-05 │ 0.001033 │ 0.001067 │\n",
       "│ BTGBTC  │ 2022-01-04 │  0.00088 │ 0.000921 │\n",
       "│ BTGBTC  │ 2022-02-16 │  0.00076 │ 0.000792 │\n",
       "│ BTGBTC  │ 2022-03-14 │ 0.000734 │ 0.000788 │\n",
       "├─────────┴────────────┴──────────┴──────────┤\n",
       "│ ? rows (>9999 rows, 20 shown)    4 columns │\n",
       "└────────────────────────────────────────────┘"
      ]
     },
     "execution_count": 19,
     "metadata": {},
     "output_type": "execute_result"
    }
   ],
   "source": [
    "# It's a lazy execution\n",
    "res"
   ]
  },
  {
   "cell_type": "code",
   "execution_count": 20,
   "metadata": {},
   "outputs": [],
   "source": [
    "# save it on s3\n",
    "\n",
    "duckdb.sql(f\"COPY res TO 's3://{S3_BUCKET}/crypto/index.parquet' (FORMAT PARQUET);\")"
   ]
  },
  {
   "cell_type": "code",
   "execution_count": 25,
   "metadata": {},
   "outputs": [
    {
     "name": "stdout",
     "output_type": "stream",
     "text": [
      "┌───────────┬────────────┐\n",
      "│  symbol   │    max     │\n",
      "│  varchar  │   float    │\n",
      "├───────────┼────────────┤\n",
      "│ ALGOBTC   │  5.542e-05 │\n",
      "│ ALPACABTC │  3.916e-05 │\n",
      "│ ALPINEEUR │      12.37 │\n",
      "│ AMPBTC    │   1.48e-06 │\n",
      "│ ANKRBTC   │   3.94e-06 │\n",
      "│ ANYBTC    │  0.0009368 │\n",
      "│ API3BTC   │ 0.00026137 │\n",
      "│ APTEUR    │    18.6728 │\n",
      "│ ARDRBTC   │   1.43e-05 │\n",
      "│ ARPABTC   │    4.4e-06 │\n",
      "│   ·       │       ·    │\n",
      "│   ·       │       ·    │\n",
      "│   ·       │       ·    │\n",
      "│ QIBTC     │   6.48e-06 │\n",
      "│ RVNBTC    │   3.88e-06 │\n",
      "│ SANDBTC   │ 0.00014824 │\n",
      "│ SCBTC     │    5.5e-07 │\n",
      "│ SFPBTC    │   5.54e-05 │\n",
      "│ SKLBTC    │  1.055e-05 │\n",
      "│ SNMBTC    │ 0.00083304 │\n",
      "│ CTXCBTC   │    2.5e-05 │\n",
      "│ NKNBTC    │   1.25e-05 │\n",
      "│ PIVXBTC   │      3e-05 │\n",
      "├───────────┴────────────┤\n",
      "│  361 rows (20 shown)   │\n",
      "└────────────────────────┘\n",
      "\n"
     ]
    }
   ],
   "source": [
    "# query that index \n",
    "\n",
    "maxValueBySymbol = duckdb.sql(f\"\"\"\n",
    "SELECT symbol, max(max) max\n",
    "FROM read_parquet('s3://{S3_BUCKET}/crypto/index.parquet')\n",
    "GROUP BY symbol\n",
    "\"\"\")\n",
    "print(maxValueBySymbol)"
   ]
  },
  {
   "cell_type": "code",
   "execution_count": 24,
   "metadata": {},
   "outputs": [
    {
     "name": "stdout",
     "output_type": "stream",
     "text": [
      "┌────────────┬───────────────┐\n",
      "│     d      │ count(symbol) │\n",
      "│    date    │     int64     │\n",
      "├────────────┼───────────────┤\n",
      "│ 2021-07-01 │           274 │\n",
      "│ 2021-07-02 │           274 │\n",
      "│ 2021-07-03 │           274 │\n",
      "│ 2021-07-04 │           274 │\n",
      "│ 2021-07-05 │           276 │\n",
      "│ 2021-07-06 │           276 │\n",
      "│ 2021-07-07 │           276 │\n",
      "│ 2021-07-08 │           276 │\n",
      "│ 2021-07-09 │           276 │\n",
      "│ 2021-07-10 │           276 │\n",
      "│     ·      │            ·  │\n",
      "│     ·      │            ·  │\n",
      "│     ·      │            ·  │\n",
      "│ 2023-02-14 │           280 │\n",
      "│ 2023-02-15 │           280 │\n",
      "│ 2023-02-16 │           280 │\n",
      "│ 2023-02-17 │           279 │\n",
      "│ 2023-02-18 │           279 │\n",
      "│ 2023-02-19 │           279 │\n",
      "│ 2023-02-20 │           279 │\n",
      "│ 2023-02-21 │           279 │\n",
      "│ 2023-02-22 │           280 │\n",
      "│ 2023-02-23 │           280 │\n",
      "├────────────┴───────────────┤\n",
      "│    603 rows (20 shown)     │\n",
      "└────────────────────────────┘\n",
      "\n"
     ]
    }
   ],
   "source": [
    "distinctDate = duckdb.sql(f\"\"\"\n",
    "SELECT d, COUNT(symbol)\n",
    "FROM read_parquet('s3://{S3_BUCKET}/crypto/index.parquet')\n",
    "GROUP BY d\n",
    "\"\"\")\n",
    "print(distinctDate)\n"
   ]
  },
  {
   "cell_type": "code",
   "execution_count": 26,
   "metadata": {},
   "outputs": [
    {
     "name": "stdout",
     "output_type": "stream",
     "text": [
      "┌──────────┬──────────┐\n",
      "│  symbol  │   max    │\n",
      "│ varchar  │  float   │\n",
      "├──────────┼──────────┤\n",
      "│ BTCEUR   │ 59744.44 │\n",
      "│ YFIEUR   │ 37182.52 │\n",
      "│ ETHEUR   │   4223.0 │\n",
      "│ BCHEUR   │    679.6 │\n",
      "│ BNBEUR   │    586.8 │\n",
      "│ EGLDEUR  │   483.25 │\n",
      "│ LTCEUR   │    256.8 │\n",
      "│ SOLEUR   │   226.39 │\n",
      "│ LAZIOEUR │    200.0 │\n",
      "│ WAVESEUR │    137.5 │\n",
      "│ AVAXEUR  │   130.67 │\n",
      "│ LUNAEUR  │   109.06 │\n",
      "│ ICPEUR   │    73.55 │\n",
      "│ ETCEUR   │   66.057 │\n",
      "│ GALEUR   │     49.0 │\n",
      "│ DOTEUR   │    47.62 │\n",
      "│ PORTOEUR │     40.0 │\n",
      "│ LINKEUR  │    33.22 │\n",
      "│ ATOMEUR  │    31.37 │\n",
      "│ UNIEUR   │   26.784 │\n",
      "├──────────┴──────────┤\n",
      "│ 20 rows   2 columns │\n",
      "└─────────────────────┘\n",
      "\n"
     ]
    }
   ],
   "source": [
    "maxValueBySymbol = duckdb.sql(f\"\"\"\n",
    "SELECT symbol, max(max) max\n",
    "FROM read_parquet('s3://{S3_BUCKET}/crypto/index.parquet')\n",
    "GROUP BY symbol\n",
    "ORDER BY max DESC \n",
    "LIMIT 20\n",
    "\"\"\")\n",
    "print(maxValueBySymbol)"
   ]
  },
  {
   "cell_type": "code",
   "execution_count": 30,
   "metadata": {},
   "outputs": [],
   "source": [
    "data = duckdb.sql(f\"\"\"\n",
    "    SELECT d, max(max) max\n",
    "    FROM read_parquet('s3://{S3_BUCKET}/crypto/index.parquet')\n",
    "    WHERE symbol = 'ETHEUR' AND d > '2021-12-31' AND d < '2023-01-01'\n",
    "    GROUP BY d\n",
    "    ORDER BY d ASC \n",
    "    \"\"\").to_df()"
   ]
  },
  {
   "cell_type": "code",
   "execution_count": 31,
   "metadata": {},
   "outputs": [
    {
     "data": {
      "text/html": [
       "<div>\n",
       "<style scoped>\n",
       "    .dataframe tbody tr th:only-of-type {\n",
       "        vertical-align: middle;\n",
       "    }\n",
       "\n",
       "    .dataframe tbody tr th {\n",
       "        vertical-align: top;\n",
       "    }\n",
       "\n",
       "    .dataframe thead th {\n",
       "        text-align: right;\n",
       "    }\n",
       "</style>\n",
       "<table border=\"1\" class=\"dataframe\">\n",
       "  <thead>\n",
       "    <tr style=\"text-align: right;\">\n",
       "      <th></th>\n",
       "      <th>d</th>\n",
       "      <th>max</th>\n",
       "    </tr>\n",
       "  </thead>\n",
       "  <tbody>\n",
       "    <tr>\n",
       "      <th>0</th>\n",
       "      <td>2022-01-01</td>\n",
       "      <td>3327.399902</td>\n",
       "    </tr>\n",
       "    <tr>\n",
       "      <th>1</th>\n",
       "      <td>2022-01-02</td>\n",
       "      <td>3394.110107</td>\n",
       "    </tr>\n",
       "    <tr>\n",
       "      <th>2</th>\n",
       "      <td>2022-01-03</td>\n",
       "      <td>3398.129883</td>\n",
       "    </tr>\n",
       "    <tr>\n",
       "      <th>3</th>\n",
       "      <td>2022-01-04</td>\n",
       "      <td>3447.860107</td>\n",
       "    </tr>\n",
       "    <tr>\n",
       "      <th>4</th>\n",
       "      <td>2022-01-05</td>\n",
       "      <td>3405.000000</td>\n",
       "    </tr>\n",
       "    <tr>\n",
       "      <th>...</th>\n",
       "      <td>...</td>\n",
       "      <td>...</td>\n",
       "    </tr>\n",
       "    <tr>\n",
       "      <th>360</th>\n",
       "      <td>2022-12-27</td>\n",
       "      <td>1155.750000</td>\n",
       "    </tr>\n",
       "    <tr>\n",
       "      <th>361</th>\n",
       "      <td>2022-12-28</td>\n",
       "      <td>1142.339966</td>\n",
       "    </tr>\n",
       "    <tr>\n",
       "      <th>362</th>\n",
       "      <td>2022-12-29</td>\n",
       "      <td>1133.050049</td>\n",
       "    </tr>\n",
       "    <tr>\n",
       "      <th>363</th>\n",
       "      <td>2022-12-30</td>\n",
       "      <td>1127.469971</td>\n",
       "    </tr>\n",
       "    <tr>\n",
       "      <th>364</th>\n",
       "      <td>2022-12-31</td>\n",
       "      <td>1127.069946</td>\n",
       "    </tr>\n",
       "  </tbody>\n",
       "</table>\n",
       "<p>365 rows × 2 columns</p>\n",
       "</div>"
      ],
      "text/plain": [
       "             d          max\n",
       "0   2022-01-01  3327.399902\n",
       "1   2022-01-02  3394.110107\n",
       "2   2022-01-03  3398.129883\n",
       "3   2022-01-04  3447.860107\n",
       "4   2022-01-05  3405.000000\n",
       "..         ...          ...\n",
       "360 2022-12-27  1155.750000\n",
       "361 2022-12-28  1142.339966\n",
       "362 2022-12-29  1133.050049\n",
       "363 2022-12-30  1127.469971\n",
       "364 2022-12-31  1127.069946\n",
       "\n",
       "[365 rows x 2 columns]"
      ]
     },
     "execution_count": 31,
     "metadata": {},
     "output_type": "execute_result"
    }
   ],
   "source": [
    "data"
   ]
  },
  {
   "cell_type": "code",
   "execution_count": null,
   "metadata": {},
   "outputs": [],
   "source": []
  }
 ],
 "metadata": {
  "kernelspec": {
   "display_name": "Python 3",
   "language": "python",
   "name": "python3"
  },
  "language_info": {
   "codemirror_mode": {
    "name": "ipython",
    "version": 3
   },
   "file_extension": ".py",
   "mimetype": "text/x-python",
   "name": "python",
   "nbconvert_exporter": "python",
   "pygments_lexer": "ipython3",
   "version": "3.11.3"
  },
  "orig_nbformat": 4
 },
 "nbformat": 4,
 "nbformat_minor": 2
}
