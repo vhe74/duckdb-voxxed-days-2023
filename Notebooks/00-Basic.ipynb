{
 "cells": [
  {
   "cell_type": "code",
   "execution_count": 2,
   "id": "d8a1871d-e648-4bc9-bca3-b1d9d22cb91b",
   "metadata": {},
   "outputs": [],
   "source": [
    "import duckdb"
   ]
  },
  {
   "cell_type": "code",
   "execution_count": 3,
   "id": "5b450a31-7315-4ba6-8574-57ef8ef7bd68",
   "metadata": {},
   "outputs": [
    {
     "name": "stdout",
     "output_type": "stream",
     "text": [
      "┌───────┐\n",
      "│  42   │\n",
      "│ int32 │\n",
      "├───────┤\n",
      "│    42 │\n",
      "└───────┘\n",
      "\n"
     ]
    }
   ],
   "source": [
    "duckdb.sql('SELECT 42').show()"
   ]
  },
  {
   "cell_type": "code",
   "execution_count": 5,
   "id": "a8c27d32-fe4e-4423-8a01-506ec68f1730",
   "metadata": {},
   "outputs": [
    {
     "name": "stdout",
     "output_type": "stream",
     "text": [
      "┌───────┬─────────┐\n",
      "│   i   │  name   │\n",
      "│ int32 │ varchar │\n",
      "├───────┼─────────┤\n",
      "│    42 │ vincent │\n",
      "│    34 │ toto    │\n",
      "└───────┴─────────┘\n",
      "\n"
     ]
    },
    {
     "data": {
      "text/plain": [
       "duckdb.DuckDBPyRelation"
      ]
     },
     "execution_count": 5,
     "metadata": {},
     "output_type": "execute_result"
    }
   ],
   "source": [
    "# Creating relation variables\n",
    "sql = \"\"\"\n",
    " SELECT 42 AS i, 'vincent' AS name \n",
    " UNION \n",
    " SELECT 34 AS i, 'toto' AS name\n",
    "\"\"\"\n",
    "r1 = duckdb.sql(sql)\n",
    "\n",
    "duckdb.sql('SELECT * FROM r1').show()\n",
    "type(r1)"
   ]
  },
  {
   "cell_type": "code",
   "execution_count": 6,
   "id": "2b6d5205-5fcb-430a-9f20-67fbba3eacc2",
   "metadata": {},
   "outputs": [
    {
     "data": {
      "text/plain": [
       "┌───────┐\n",
       "│   a   │\n",
       "│ int64 │\n",
       "├───────┤\n",
       "│    42 │\n",
       "└───────┘"
      ]
     },
     "execution_count": 6,
     "metadata": {},
     "output_type": "execute_result"
    }
   ],
   "source": [
    "# SQL on pandas\n",
    "import pandas as pd\n",
    "pandas_df = pd.DataFrame({'a': [42]})\n",
    "duckdb.sql('SELECT * FROM pandas_df')"
   ]
  },
  {
   "cell_type": "code",
   "execution_count": 9,
   "id": "3dde690a",
   "metadata": {},
   "outputs": [
    {
     "data": {
      "text/plain": [
       "pandas.core.frame.DataFrame"
      ]
     },
     "execution_count": 9,
     "metadata": {},
     "output_type": "execute_result"
    }
   ],
   "source": [
    "type(pandas_df)"
   ]
  },
  {
   "cell_type": "code",
   "execution_count": 7,
   "id": "1198c78c-f288-48ae-8edd-081e58ca8474",
   "metadata": {},
   "outputs": [
    {
     "data": {
      "text/plain": [
       "┌─────────┬───────┐\n",
       "│  name   │   a   │\n",
       "│ varchar │ int64 │\n",
       "├─────────┼───────┤\n",
       "│ vincent │    42 │\n",
       "│ toto    │  NULL │\n",
       "└─────────┴───────┘"
      ]
     },
     "execution_count": 7,
     "metadata": {},
     "output_type": "execute_result"
    }
   ],
   "source": [
    "# Joining pandas and \"sql table\"\n",
    "sql = \"\"\"\n",
    " SELECT name, a \n",
    " FROM r1\n",
    " LEFT JOIN pandas_df ON a = i\n",
    "\"\"\"\n",
    "\n",
    "r2 = duckdb.sql(sql)\n",
    "r2"
   ]
  },
  {
   "cell_type": "code",
   "execution_count": 11,
   "id": "4b7cbe64-a8ed-4b29-9f07-c6e9444ab927",
   "metadata": {},
   "outputs": [
    {
     "data": {
      "text/html": [
       "<div>\n",
       "<style scoped>\n",
       "    .dataframe tbody tr th:only-of-type {\n",
       "        vertical-align: middle;\n",
       "    }\n",
       "\n",
       "    .dataframe tbody tr th {\n",
       "        vertical-align: top;\n",
       "    }\n",
       "\n",
       "    .dataframe thead th {\n",
       "        text-align: right;\n",
       "    }\n",
       "</style>\n",
       "<table border=\"1\" class=\"dataframe\">\n",
       "  <thead>\n",
       "    <tr style=\"text-align: right;\">\n",
       "      <th></th>\n",
       "      <th>name</th>\n",
       "      <th>a</th>\n",
       "    </tr>\n",
       "  </thead>\n",
       "  <tbody>\n",
       "    <tr>\n",
       "      <th>0</th>\n",
       "      <td>vincent</td>\n",
       "      <td>42.0</td>\n",
       "    </tr>\n",
       "    <tr>\n",
       "      <th>1</th>\n",
       "      <td>toto</td>\n",
       "      <td>NaN</td>\n",
       "    </tr>\n",
       "  </tbody>\n",
       "</table>\n",
       "</div>"
      ],
      "text/plain": [
       "      name     a\n",
       "0  vincent  42.0\n",
       "1     toto   NaN"
      ]
     },
     "execution_count": 11,
     "metadata": {},
     "output_type": "execute_result"
    }
   ],
   "source": [
    "# Convert result to Pandas dataframe \n",
    "r2.df()"
   ]
  },
  {
   "cell_type": "code",
   "execution_count": 12,
   "id": "983352eb-d2ab-4287-b430-60b17cf7b968",
   "metadata": {},
   "outputs": [
    {
     "data": {
      "text/plain": [
       "┌─────────┬─────────┬────────┐\n",
       "│  aggr   │  name   │   a    │\n",
       "│ varchar │ varchar │ double │\n",
       "├─────────┼─────────┼────────┤\n",
       "│ count   │ 2       │    1.0 │\n",
       "│ mean    │ NULL    │   42.0 │\n",
       "│ stddev  │ NULL    │   NULL │\n",
       "│ min     │ toto    │   42.0 │\n",
       "│ max     │ vincent │   42.0 │\n",
       "│ median  │ NULL    │   42.0 │\n",
       "└─────────┴─────────┴────────┘"
      ]
     },
     "execution_count": 12,
     "metadata": {},
     "output_type": "execute_result"
    }
   ],
   "source": [
    "r2.describe()"
   ]
  },
  {
   "cell_type": "code",
   "execution_count": 13,
   "id": "7d125533-5d85-429f-97be-c7fce13f301a",
   "metadata": {},
   "outputs": [],
   "source": [
    "r2.to_csv(\"blop.csv\")"
   ]
  },
  {
   "cell_type": "code",
   "execution_count": 17,
   "id": "8fd15d05",
   "metadata": {},
   "outputs": [],
   "source": [
    "r2.df()[\"name2\"] = \"a\"\n",
    "\n"
   ]
  },
  {
   "cell_type": "code",
   "execution_count": 18,
   "id": "50a7605d",
   "metadata": {},
   "outputs": [
    {
     "data": {
      "text/plain": [
       "┌─────────┬───────┐\n",
       "│  name   │   a   │\n",
       "│ varchar │ int64 │\n",
       "├─────────┼───────┤\n",
       "│ vincent │    42 │\n",
       "│ toto    │  NULL │\n",
       "└─────────┴───────┘"
      ]
     },
     "execution_count": 18,
     "metadata": {},
     "output_type": "execute_result"
    }
   ],
   "source": [
    "r2"
   ]
  },
  {
   "cell_type": "code",
   "execution_count": 3,
   "id": "2068da16",
   "metadata": {},
   "outputs": [
    {
     "data": {
      "text/plain": [
       "┌───────────────────┐\n",
       "│       duck        │\n",
       "│      varchar      │\n",
       "├───────────────────┤\n",
       "│ {\"duck\":\"canard\"} │\n",
       "└───────────────────┘"
      ]
     },
     "execution_count": 3,
     "metadata": {},
     "output_type": "execute_result"
    }
   ],
   "source": []
  },
  {
   "cell_type": "code",
   "execution_count": 5,
   "id": "7077d979",
   "metadata": {},
   "outputs": [
    {
     "data": {
      "text/plain": [
       "┌─────────┐\n",
       "│  duck   │\n",
       "│ varchar │\n",
       "├─────────┤\n",
       "│ canard  │\n",
       "└─────────┘"
      ]
     },
     "execution_count": 5,
     "metadata": {},
     "output_type": "execute_result"
    }
   ],
   "source": []
  },
  {
   "cell_type": "code",
   "execution_count": null,
   "id": "bcbc3c6b",
   "metadata": {},
   "outputs": [],
   "source": []
  }
 ],
 "metadata": {
  "kernelspec": {
   "display_name": "Python 3 (ipykernel)",
   "language": "python",
   "name": "python3"
  },
  "language_info": {
   "codemirror_mode": {
    "name": "ipython",
    "version": 3
   },
   "file_extension": ".py",
   "mimetype": "text/x-python",
   "name": "python",
   "nbconvert_exporter": "python",
   "pygments_lexer": "ipython3",
   "version": "3.11.3"
  }
 },
 "nbformat": 4,
 "nbformat_minor": 5
}
