{
 "cells": [
  {
   "cell_type": "code",
   "execution_count": 1,
   "id": "d32329f8-b0c1-4331-aad8-d4d2140d9eaf",
   "metadata": {},
   "outputs": [],
   "source": [
    "import duckdb"
   ]
  },
  {
   "cell_type": "code",
   "execution_count": 2,
   "id": "bc6ca44b-1882-4464-ac36-1f38e6aa938a",
   "metadata": {},
   "outputs": [
    {
     "name": "stdout",
     "output_type": "stream",
     "text": [
      "┌────────────────────────┐\n",
      "│           id           │\n",
      "│         int64          │\n",
      "├────────────────────────┤\n",
      "│                      0 │\n",
      "│                      1 │\n",
      "│                      2 │\n",
      "│                      3 │\n",
      "│                      4 │\n",
      "│                      5 │\n",
      "│                      6 │\n",
      "│                      7 │\n",
      "│                      8 │\n",
      "│                      9 │\n",
      "│                      · │\n",
      "│                      · │\n",
      "│                      · │\n",
      "│                   9990 │\n",
      "│                   9991 │\n",
      "│                   9992 │\n",
      "│                   9993 │\n",
      "│                   9994 │\n",
      "│                   9995 │\n",
      "│                   9996 │\n",
      "│                   9997 │\n",
      "│                   9998 │\n",
      "│                   9999 │\n",
      "├────────────────────────┤\n",
      "│         ? rows         │\n",
      "│ (>9999 rows, 20 shown) │\n",
      "└────────────────────────┘\n",
      "\n"
     ]
    }
   ],
   "source": [
    "rel = duckdb.sql('SELECT * FROM range(1000000) tbl(id)');\n",
    "rel.show()"
   ]
  },
  {
   "cell_type": "code",
   "execution_count": 3,
   "id": "8471f767-1841-497d-ab45-a25303212402",
   "metadata": {},
   "outputs": [
    {
     "name": "stdout",
     "output_type": "stream",
     "text": [
      "┌──────────────┐\n",
      "│ count_star() │\n",
      "│    int64     │\n",
      "├──────────────┤\n",
      "│      1000000 │\n",
      "└──────────────┘\n",
      "\n"
     ]
    }
   ],
   "source": [
    "duckdb.sql('SELECT COUNT(*) FROM rel').show()"
   ]
  },
  {
   "cell_type": "code",
   "execution_count": 4,
   "id": "6054f672-b6c4-411c-a11c-f9a9695461e7",
   "metadata": {},
   "outputs": [
    {
     "name": "stdout",
     "output_type": "stream",
     "text": [
      "┌──────────────┐\n",
      "│   sum(id)    │\n",
      "│    int128    │\n",
      "├──────────────┤\n",
      "│ 499999500000 │\n",
      "└──────────────┘\n",
      "\n"
     ]
    }
   ],
   "source": [
    "duckdb.sql('SELECT SUM(id) FROM rel').show()"
   ]
  },
  {
   "cell_type": "markdown",
   "id": "04d999e3-7eb6-483a-90c5-0fb675193ed4",
   "metadata": {},
   "source": [
    "# Operations"
   ]
  },
  {
   "cell_type": "code",
   "execution_count": 4,
   "id": "20c8310e-1565-4c87-94d9-97092a565b38",
   "metadata": {},
   "outputs": [
    {
     "data": {
      "text/plain": [
       "┌───────┬──────────────┬─────────┬─────────┬──────────────┐\n",
       "│  g2   │   sum(id)    │ min(id) │ max(id) │ count_star() │\n",
       "│ int64 │    int128    │  int64  │  int64  │    int64     │\n",
       "├───────┼──────────────┼─────────┼─────────┼──────────────┤\n",
       "│     0 │ 166666833333 │       0 │  999999 │       333334 │\n",
       "│     1 │ 166666166667 │       1 │  999997 │       333333 │\n",
       "│     2 │ 166666500000 │       2 │  999998 │       333333 │\n",
       "└───────┴──────────────┴─────────┴─────────┴──────────────┘"
      ]
     },
     "execution_count": 4,
     "metadata": {},
     "output_type": "execute_result"
    }
   ],
   "source": [
    "# Aggregation \n",
    "# Automatically considers standards fields as group fields\n",
    "rel.aggregate('id % 3 AS g2, sum(id), min(id), max(id), count(*)')"
   ]
  },
  {
   "cell_type": "code",
   "execution_count": 6,
   "id": "88c2c379-b824-46c6-b695-037068de6abd",
   "metadata": {},
   "outputs": [
    {
     "name": "stdout",
     "output_type": "stream",
     "text": [
      "┌───────┐\n",
      "│  id   │\n",
      "│ int64 │\n",
      "├───────┤\n",
      "│     0 │\n",
      "│     1 │\n",
      "│     2 │\n",
      "│     3 │\n",
      "│     4 │\n",
      "│     5 │\n",
      "│     6 │\n",
      "│     7 │\n",
      "│     8 │\n",
      "│     9 │\n",
      "└───────┘\n",
      "\n",
      "Removing 6, 7, 8\n",
      "┌───────┐\n",
      "│  id   │\n",
      "│ int64 │\n",
      "├───────┤\n",
      "│     0 │\n",
      "│     1 │\n",
      "│     2 │\n",
      "│     3 │\n",
      "│     4 │\n",
      "│     5 │\n",
      "│     9 │\n",
      "└───────┘\n",
      "\n"
     ]
    }
   ],
   "source": [
    "# Exclusion\n",
    "\n",
    "r1 = duckdb.sql('SELECT * FROM range(10) tbl(id)');\n",
    "r1.show()\n",
    "print(\"Removing 6, 7, 8\")\n",
    "r2 = duckdb.sql('SELECT 6 UNION SELECT 7 UNION SELECT 8');\n",
    "r1.except_(r2).show()\n"
   ]
  },
  {
   "cell_type": "code",
   "execution_count": 7,
   "id": "2495837f-9bc9-484b-bacd-4710ab50ee94",
   "metadata": {},
   "outputs": [
    {
     "name": "stdout",
     "output_type": "stream",
     "text": [
      "┌───────┐\n",
      "│  id   │\n",
      "│ int64 │\n",
      "├───────┤\n",
      "│     6 │\n",
      "│     7 │\n",
      "│     8 │\n",
      "└───────┘\n",
      "\n"
     ]
    }
   ],
   "source": [
    "# Filter and Limit\n",
    "\n",
    "rel.filter('id > 5').limit(3).show()"
   ]
  },
  {
   "cell_type": "code",
   "execution_count": 8,
   "id": "5dfe3a01-cb84-4327-a15d-74b1716ca6cb",
   "metadata": {},
   "outputs": [
    {
     "name": "stdout",
     "output_type": "stream",
     "text": [
      "┌───────┐\n",
      "│  r1   │\n",
      "│ int64 │\n",
      "├───────┤\n",
      "│     0 │\n",
      "│     1 │\n",
      "│     2 │\n",
      "│     3 │\n",
      "│     4 │\n",
      "│     5 │\n",
      "│     6 │\n",
      "│     7 │\n",
      "│     8 │\n",
      "│     9 │\n",
      "└───────┘\n",
      "\n",
      "┌───────┐\n",
      "│  r2   │\n",
      "│ int64 │\n",
      "├───────┤\n",
      "│     8 │\n",
      "│     9 │\n",
      "│    10 │\n",
      "│    11 │\n",
      "│    12 │\n",
      "└───────┘\n",
      "\n",
      "intersecting r1 to r2\n",
      "┌───────┐\n",
      "│  r1   │\n",
      "│ int64 │\n",
      "├───────┤\n",
      "│     8 │\n",
      "│     9 │\n",
      "└───────┘\n",
      "\n"
     ]
    }
   ],
   "source": [
    "# Intersection \n",
    "\n",
    "r1 = duckdb.sql('SELECT * FROM range(10) tbl(r1)');\n",
    "r1.show()\n",
    "r2 = duckdb.sql('SELECT * FROM range(8,13) tbl(r2)');\n",
    "r2.show()\n",
    "print(\"intersecting r1 to r2\")\n",
    "r1.intersect(r2).show()"
   ]
  },
  {
   "cell_type": "code",
   "execution_count": 9,
   "id": "65290c1d-6c19-41a5-8543-9676028fee6b",
   "metadata": {},
   "outputs": [
    {
     "name": "stdout",
     "output_type": "stream",
     "text": [
      "┌───────┬─────────┐\n",
      "│  id   │  name   │\n",
      "│ int32 │ varchar │\n",
      "├───────┼─────────┤\n",
      "│     1 │ vincent │\n",
      "│     2 │ toto    │\n",
      "└───────┴─────────┘\n",
      "\n",
      "┌───────┬─────────┐\n",
      "│  id   │ status  │\n",
      "│ int32 │ varchar │\n",
      "├───────┼─────────┤\n",
      "│     3 │ free    │\n",
      "│     1 │ busy    │\n",
      "│     2 │ free    │\n",
      "└───────┴─────────┘\n",
      "\n",
      "┌───────┬─────────┬───────┬─────────┐\n",
      "│  id   │  name   │  id   │ status  │\n",
      "│ int32 │ varchar │ int32 │ varchar │\n",
      "├───────┼─────────┼───────┼─────────┤\n",
      "│     1 │ vincent │     1 │ busy    │\n",
      "│     2 │ toto    │     2 │ free    │\n",
      "└───────┴─────────┴───────┴─────────┘\n",
      "\n"
     ]
    }
   ],
   "source": [
    "# Join\n",
    "sql = \"\"\"\n",
    " SELECT 1 AS id, 'vincent' AS name \n",
    " UNION \n",
    " SELECT 2 AS id, 'toto' AS name\n",
    "\"\"\"\n",
    "r1 = duckdb.sql(sql).set_alias('r1')\n",
    "r1.show()\n",
    "\n",
    "sql = \"\"\"\n",
    " SELECT 1 AS id, 'busy' AS status \n",
    " UNION \n",
    " SELECT 2 AS id, 'free' AS status\n",
    " UNION \n",
    " SELECT 3 AS id, 'free' AS status\n",
    "\"\"\"\n",
    "r2 = duckdb.sql(sql).set_alias('r2')\n",
    "r2.show()\n",
    "\n",
    "rJoined = r1.join(r2, 'r1.id = r2.id')\n",
    "rJoined.show()"
   ]
  },
  {
   "cell_type": "code",
   "execution_count": 10,
   "id": "8d86e527-4db3-42b6-997a-301a872879a6",
   "metadata": {},
   "outputs": [
    {
     "name": "stdout",
     "output_type": "stream",
     "text": [
      "┌───────┬─────────┬───────┬─────────┐\n",
      "│  id   │  name   │  id   │ status  │\n",
      "│ int32 │ varchar │ int32 │ varchar │\n",
      "├───────┼─────────┼───────┼─────────┤\n",
      "│     2 │ toto    │     2 │ free    │\n",
      "│     1 │ vincent │     1 │ busy    │\n",
      "└───────┴─────────┴───────┴─────────┘\n",
      "\n"
     ]
    }
   ],
   "source": [
    "# order \n",
    "rJoined.order('name ASC').show()"
   ]
  },
  {
   "cell_type": "code",
   "execution_count": 47,
   "id": "d625a947-1b46-4f1d-8ea2-6234184531a5",
   "metadata": {},
   "outputs": [
    {
     "name": "stdout",
     "output_type": "stream",
     "text": [
      "┌───────┬─────────┬─────────┐\n",
      "│  id   │  name   │ status  │\n",
      "│ int32 │ varchar │ varchar │\n",
      "├───────┼─────────┼─────────┤\n",
      "│     1 │ vincent │ busy    │\n",
      "│     2 │ toto    │ free    │\n",
      "└───────┴─────────┴─────────┘\n",
      "\n"
     ]
    }
   ],
   "source": [
    "# project\n",
    "rJoined.project('r1.id id, name, status').show()"
   ]
  },
  {
   "cell_type": "code",
   "execution_count": 11,
   "id": "695c53be-780e-48b8-8fe0-c44884e90c9f",
   "metadata": {},
   "outputs": [
    {
     "name": "stdout",
     "output_type": "stream",
     "text": [
      "┌───────┬─────────┬─────────┬───────┐\n",
      "│  id   │  name   │ status  │  id2  │\n",
      "│ int32 │ varchar │ varchar │ int32 │\n",
      "├───────┼─────────┼─────────┼───────┤\n",
      "│     1 │ vincent │ busy    │    11 │\n",
      "│     2 │ toto    │ free    │    12 │\n",
      "└───────┴─────────┴─────────┴───────┘\n",
      "\n"
     ]
    }
   ],
   "source": [
    "# project\n",
    "rJoined.project('r1.id id, name, status, r1.id+10 as id2').show()"
   ]
  },
  {
   "cell_type": "code",
   "execution_count": 12,
   "id": "94ebf89e-8888-4110-bf0e-d6996a5346f4",
   "metadata": {},
   "outputs": [
    {
     "name": "stdout",
     "output_type": "stream",
     "text": [
      "┌───────┐\n",
      "│  r1   │\n",
      "│ int64 │\n",
      "├───────┤\n",
      "│     0 │\n",
      "│     1 │\n",
      "│     2 │\n",
      "│     3 │\n",
      "│     4 │\n",
      "└───────┘\n",
      "\n",
      "┌───────┐\n",
      "│  r2   │\n",
      "│ int64 │\n",
      "├───────┤\n",
      "│    20 │\n",
      "│    21 │\n",
      "│    22 │\n",
      "│    23 │\n",
      "│    24 │\n",
      "└───────┘\n",
      "\n",
      "union of r1 and r2\n",
      "┌───────┐\n",
      "│  r1   │\n",
      "│ int64 │\n",
      "├───────┤\n",
      "│     0 │\n",
      "│     1 │\n",
      "│     2 │\n",
      "│     3 │\n",
      "│     4 │\n",
      "│    20 │\n",
      "│    21 │\n",
      "│    22 │\n",
      "│    23 │\n",
      "│    24 │\n",
      "└───────┘\n",
      "\n"
     ]
    }
   ],
   "source": [
    "# union\n",
    "r1 = duckdb.sql('SELECT * FROM range(5) tbl(r1)');\n",
    "r1.show()\n",
    "r2 = duckdb.sql('SELECT * FROM range(20,25) tbl(r2)');\n",
    "r2.show()\n",
    "print(\"union of r1 and r2\")\n",
    "r1.union(r2).show()"
   ]
  },
  {
   "cell_type": "code",
   "execution_count": null,
   "id": "938a0c14-50a7-45db-bc9a-8119f1b736f0",
   "metadata": {},
   "outputs": [],
   "source": []
  }
 ],
 "metadata": {
  "kernelspec": {
   "display_name": "Python 3 (ipykernel)",
   "language": "python",
   "name": "python3"
  },
  "language_info": {
   "codemirror_mode": {
    "name": "ipython",
    "version": 3
   },
   "file_extension": ".py",
   "mimetype": "text/x-python",
   "name": "python",
   "nbconvert_exporter": "python",
   "pygments_lexer": "ipython3",
   "version": "3.11.3"
  }
 },
 "nbformat": 4,
 "nbformat_minor": 5
}
