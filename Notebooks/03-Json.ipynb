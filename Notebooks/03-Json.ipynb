{
 "cells": [
  {
   "cell_type": "code",
   "execution_count": 1,
   "metadata": {},
   "outputs": [],
   "source": [
    "import duckdb\n",
    "duckdb.install_extension(\"json\")\n",
    "duckdb.load_extension(\"json\")"
   ]
  },
  {
   "cell_type": "code",
   "execution_count": 2,
   "metadata": {},
   "outputs": [
    {
     "data": {
      "text/plain": [
       "┌───────────────────┐\n",
       "│       duck        │\n",
       "│      varchar      │\n",
       "├───────────────────┤\n",
       "│ {\"duck\":\"canard\"} │\n",
       "└───────────────────┘"
      ]
     },
     "execution_count": 2,
     "metadata": {},
     "output_type": "execute_result"
    }
   ],
   "source": [
    "# Json\n",
    "sql = \"\"\"\n",
    "SELECT \n",
    "    '{\"duck\":\"canard\"}'\n",
    "AS duck\n",
    "\"\"\"\n",
    "duckdb.sql(sql)"
   ]
  },
  {
   "cell_type": "code",
   "execution_count": 3,
   "metadata": {},
   "outputs": [
    {
     "data": {
      "text/plain": [
       "┌─────────┐\n",
       "│  duck   │\n",
       "│ varchar │\n",
       "├─────────┤\n",
       "│ canard  │\n",
       "└─────────┘"
      ]
     },
     "execution_count": 3,
     "metadata": {},
     "output_type": "execute_result"
    }
   ],
   "source": [
    "sql = \"\"\"\n",
    "SELECT \n",
    "    '{\"duck\":\"canard\"}' ->> 'duck'\n",
    "AS duck\n",
    "\"\"\"\n",
    "duckdb.sql(sql)"
   ]
  },
  {
   "cell_type": "code",
   "execution_count": 4,
   "metadata": {},
   "outputs": [
    {
     "data": {
      "text/plain": [
       "┌──────────────┐\n",
       "│ count_star() │\n",
       "│    int64     │\n",
       "├──────────────┤\n",
       "│       161519 │\n",
       "└──────────────┘"
      ]
     },
     "execution_count": 4,
     "metadata": {},
     "output_type": "execute_result"
    }
   ],
   "source": [
    "sql = \"\"\"\n",
    "SELECT COUNT(*) FROM '/root/work/vhe/tmp/gh.json'\n",
    "\"\"\"\n",
    "\n",
    "duckdb.sql(sql)"
   ]
  },
  {
   "cell_type": "code",
   "execution_count": 5,
   "metadata": {},
   "outputs": [
    {
     "name": "stdout",
     "output_type": "stream",
     "text": [
      "┌─────────────┬───────────┬──────────────────────┬───┬─────────┬─────────────────────┬──────────────────────┐\n",
      "│     id      │   type    │        actor         │ … │ public  │     created_at      │         org          │\n",
      "│    int64    │  varchar  │ struct(id bigint, …  │   │ boolean │      timestamp      │ struct(id bigint, …  │\n",
      "├─────────────┼───────────┼──────────────────────┼───┼─────────┼─────────────────────┼──────────────────────┤\n",
      "│ 26168107646 │ PushEvent │ {'id': 118267114, …  │ … │ true    │ 2023-01-01 15:00:00 │ NULL                 │\n",
      "├─────────────┴───────────┴──────────────────────┴───┴─────────┴─────────────────────┴──────────────────────┤\n",
      "│ 1 rows                                                                                8 columns (6 shown) │\n",
      "└───────────────────────────────────────────────────────────────────────────────────────────────────────────┘\n",
      "\n"
     ]
    }
   ],
   "source": [
    "sql = \"\"\"\n",
    "SELECT * \n",
    "FROM '/root/work/vhe/tmp/gh.json'\n",
    "LIMIT 1\n",
    "\"\"\"\n",
    "\n",
    "obj = duckdb.sql(sql)\n",
    "print(obj)"
   ]
  },
  {
   "cell_type": "code",
   "execution_count": 6,
   "metadata": {},
   "outputs": [],
   "source": [
    "import pprint\n",
    "pp = pprint.PrettyPrinter(indent=4)"
   ]
  },
  {
   "cell_type": "code",
   "execution_count": 7,
   "metadata": {},
   "outputs": [
    {
     "name": "stdout",
     "output_type": "stream",
     "text": [
      "{   'actor': {   0: {   'avatar_url': 'https://avatars.githubusercontent.com/u/118267114?',\n",
      "                        'display_login': 'Mir-Ismayil-Asadullayev',\n",
      "                        'gravatar_id': '',\n",
      "                        'id': 118267114,\n",
      "                        'login': 'Mir-Ismayil-Asadullayev',\n",
      "                        'url': 'https://api.github.com/users/Mir-Ismayil-Asadullayev'}},\n",
      "    'created_at': {0: Timestamp('2023-01-01 15:00:00')},\n",
      "    'id': {0: 26168107646},\n",
      "    'org': {0: nan},\n",
      "    'payload': {   0: {   'action': None,\n",
      "                          'before': 'f03ceafc1a4f4d22a9178d2c53943c7b77ce44c8',\n",
      "                          'comment': None,\n",
      "                          'commits': [   {   'author': {   'email': '118267114+Mir-Ismayil-Asadullayev@users.noreply.github.com',\n",
      "                                                           'name': 'Mir-Ismayil'},\n",
      "                                             'distinct': True,\n",
      "                                             'message': 'Update README.md',\n",
      "                                             'sha': '5fdf88499a0eeb4e2d68c1d2389b01c6b9e8ab33',\n",
      "                                             'url': 'https://api.github.com/repos/Mir-Ismayil-Asadullayev/Hex-Color-Generator/commits/5fdf88499a0eeb4e2d68c1d2389b01c6b9e8ab33'}],\n",
      "                          'description': None,\n",
      "                          'distinct_size': 1,\n",
      "                          'forkee': None,\n",
      "                          'head': '5fdf88499a0eeb4e2d68c1d2389b01c6b9e8ab33',\n",
      "                          'issue': None,\n",
      "                          'master_branch': None,\n",
      "                          'member': None,\n",
      "                          'number': None,\n",
      "                          'pages': None,\n",
      "                          'pull_request': None,\n",
      "                          'push_id': 12150079914,\n",
      "                          'pusher_type': None,\n",
      "                          'ref': 'refs/heads/master',\n",
      "                          'ref_type': None,\n",
      "                          'release': None,\n",
      "                          'review': None,\n",
      "                          'size': 1}},\n",
      "    'public': {0: True},\n",
      "    'repo': {   0: {   'id': 584112271,\n",
      "                       'name': 'Mir-Ismayil-Asadullayev/Hex-Color-Generator',\n",
      "                       'url': 'https://api.github.com/repos/Mir-Ismayil-Asadullayev/Hex-Color-Generator'}},\n",
      "    'type': {0: 'PushEvent'}}\n"
     ]
    }
   ],
   "source": [
    "dic = obj.to_df().to_dict()\n",
    "pp.pprint(dic)\n"
   ]
  },
  {
   "cell_type": "code",
   "execution_count": 8,
   "metadata": {},
   "outputs": [
    {
     "name": "stdout",
     "output_type": "stream",
     "text": [
      "┌──────────────────────┬───────┐\n",
      "│    display_login     │   c   │\n",
      "│       varchar        │ int64 │\n",
      "├──────────────────────┼───────┤\n",
      "│ dependabot           │ 49989 │\n",
      "│ github-actions       │ 17965 │\n",
      "│ LombiqBot            │  2244 │\n",
      "│ vercel               │  1263 │\n",
      "│ ivy-root             │   828 │\n",
      "│ renovate             │   688 │\n",
      "│ direwolf-github      │   681 │\n",
      "│ B4kedBr3ad           │   619 │\n",
      "│ Rolleander           │   580 │\n",
      "│ pull                 │   526 │\n",
      "│  ·                   │     · │\n",
      "│  ·                   │     · │\n",
      "│  ·                   │     · │\n",
      "│ prepheadrus          │    54 │\n",
      "│ ehtagtranslation     │    53 │\n",
      "│ africanmoose         │    53 │\n",
      "│ tamilthalaiva        │    52 │\n",
      "│ test987987           │    50 │\n",
      "│ JimmyZhangJW         │    49 │\n",
      "│ supervpnops          │    49 │\n",
      "│ CoolBeansProgramming │    48 │\n",
      "│ horsicq              │    47 │\n",
      "│ moogle19             │    47 │\n",
      "├──────────────────────┴───────┤\n",
      "│     100 rows (20 shown)      │\n",
      "└──────────────────────────────┘\n",
      "\n"
     ]
    }
   ],
   "source": [
    "sql = \"\"\"\n",
    "SELECT \n",
    "    actor.display_login, COUNT(*) c\n",
    "FROM '/root/work/vhe/tmp/gh.json'\n",
    "GROUP BY actor.display_login\n",
    "ORDER BY c DESC\n",
    "LIMIT 100\n",
    "\"\"\"\n",
    "\n",
    "top100 = duckdb.sql(sql)\n",
    "print(top100)"
   ]
  },
  {
   "cell_type": "code",
   "execution_count": 35,
   "metadata": {},
   "outputs": [],
   "source": [
    "duckdb.sql(\"COPY top100 TO '/root/work/vhe/tmp/top100.json'\")"
   ]
  },
  {
   "cell_type": "code",
   "execution_count": 39,
   "metadata": {},
   "outputs": [
    {
     "data": {
      "text/plain": [
       "┌─────────────┬─────────────┬─────────┬─────────┬─────────┬───────┐\n",
       "│ column_name │ column_type │  null   │   key   │ default │ extra │\n",
       "│   varchar   │   varchar   │ varchar │ varchar │ varchar │ int32 │\n",
       "├─────────────┼─────────────┼─────────┼─────────┼─────────┼───────┤\n",
       "│ schemaname  │ VARCHAR     │ YES     │ NULL    │ NULL    │  NULL │\n",
       "│ viewname    │ VARCHAR     │ YES     │ NULL    │ NULL    │  NULL │\n",
       "│ viewowner   │ VARCHAR     │ YES     │ NULL    │ NULL    │  NULL │\n",
       "│ definition  │ VARCHAR     │ YES     │ NULL    │ NULL    │  NULL │\n",
       "└─────────────┴─────────────┴─────────┴─────────┴─────────┴───────┘"
      ]
     },
     "execution_count": 39,
     "metadata": {},
     "output_type": "execute_result"
    }
   ],
   "source": []
  },
  {
   "cell_type": "code",
   "execution_count": null,
   "metadata": {},
   "outputs": [],
   "source": []
  }
 ],
 "metadata": {
  "kernelspec": {
   "display_name": "Python 3",
   "language": "python",
   "name": "python3"
  },
  "language_info": {
   "codemirror_mode": {
    "name": "ipython",
    "version": 3
   },
   "file_extension": ".py",
   "mimetype": "text/x-python",
   "name": "python",
   "nbconvert_exporter": "python",
   "pygments_lexer": "ipython3",
   "version": "3.11.3"
  },
  "orig_nbformat": 4
 },
 "nbformat": 4,
 "nbformat_minor": 2
}
